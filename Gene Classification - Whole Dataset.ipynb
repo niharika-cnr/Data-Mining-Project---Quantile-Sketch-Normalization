{
 "cells": [
  {
   "cell_type": "markdown",
   "metadata": {},
   "source": [
    "# Classification of presence of a gene in a person"
   ]
  },
  {
   "cell_type": "markdown",
   "metadata": {},
   "source": [
    "Importing libraries for processing the dataset"
   ]
  },
  {
   "cell_type": "code",
   "execution_count": 1,
   "metadata": {},
   "outputs": [],
   "source": [
    "import numpy as np \n",
    "import pandas as pd\n",
    "import warnings"
   ]
  },
  {
   "cell_type": "markdown",
   "metadata": {},
   "source": [
    "Importing libraries for classification"
   ]
  },
  {
   "cell_type": "code",
   "execution_count": 2,
   "metadata": {},
   "outputs": [
    {
     "name": "stderr",
     "output_type": "stream",
     "text": [
      "/usr/local/lib/python3.5/dist-packages/sklearn/cross_validation.py:41: DeprecationWarning: This module was deprecated in version 0.18 in favor of the model_selection module into which all the refactored classes and functions are moved. Also note that the interface of the new CV iterators are different from that of this module. This module will be removed in 0.20.\n",
      "  \"This module will be removed in 0.20.\", DeprecationWarning)\n"
     ]
    }
   ],
   "source": [
    "from sklearn.metrics import confusion_matrix \n",
    "from sklearn.preprocessing import LabelEncoder\n",
    "from sklearn.cross_validation import train_test_split \n",
    "from sklearn.naive_bayes import GaussianNB \n",
    "from sklearn.metrics import accuracy_score \n",
    "from sklearn.metrics import classification_report\n",
    "from sklearn import metrics "
   ]
  },
  {
   "cell_type": "markdown",
   "metadata": {},
   "source": [
    "Building the dataset for training"
   ]
  },
  {
   "cell_type": "code",
   "execution_count": 3,
   "metadata": {},
   "outputs": [
    {
     "name": "stdout",
     "output_type": "stream",
     "text": [
      "Dataset/GSM6577.txt\n",
      "Dataset/GSM6578.txt\n",
      "Dataset/GSM6579.txt\n",
      "Dataset/GSM6580.txt\n",
      "Dataset/GSM6581.txt\n",
      "Dataset/GSM6582.txt\n",
      "Dataset/GSM6583.txt\n",
      "Dataset/GSM6584.txt\n",
      "Dataset/GSM6227.txt\n",
      "Dataset/GSM6571.txt\n",
      "Dataset/GSM6572.txt\n",
      "Dataset/GSM6573.txt\n",
      "Dataset/GSM6574.txt\n",
      "Dataset/GSM6575.txt\n",
      "Dataset/GSM6576.txt\n"
     ]
    }
   ],
   "source": [
    "def buildTrainDataset():\n",
    "    # Collating the data from 15 files into one dataframe\n",
    "    dataset_list = []\n",
    "    files = open('listfile_org','r')\n",
    "\n",
    "    for file in files:\n",
    "        file=file.strip('\\n')\n",
    "        print(file)\n",
    "        df = pd.read_csv(file, sep='\\t')\n",
    "        df = df[['ID_REF','VALUE', 'ABS_CALL','Detection p-value']]\n",
    "        dataset_list.append(df)\n",
    "\n",
    "    dataset = pd.concat(dataset_list)\n",
    "    \n",
    "    # Encoding non-numeric data\n",
    "    label_encoder = LabelEncoder()\n",
    "    dataset['ID_REF']   = label_encoder.fit_transform(dataset['ID_REF'])\n",
    "    dataset['ABS_CALL'] = label_encoder.fit_transform(dataset['ABS_CALL'])\n",
    "\n",
    "    return dataset\n",
    "\n",
    "dataset = buildTrainDataset()"
   ]
  },
  {
   "cell_type": "markdown",
   "metadata": {},
   "source": [
    "Splitting the data for testing"
   ]
  },
  {
   "cell_type": "code",
   "execution_count": 5,
   "metadata": {},
   "outputs": [],
   "source": [
    "def prepClfData(balance_data): \n",
    "  \n",
    "    # Seperating the target variable \n",
    "    X = balance_data[['ID_REF','VALUE', 'Detection p-value']] \n",
    "    Y = balance_data['ABS_CALL'] \n",
    "\n",
    "    #Opening the test data file\n",
    "    test_data = pd.read_csv('Dataset/GSM6544.txt', sep='\\t')\n",
    "\n",
    "    label_encoder = LabelEncoder()\n",
    "    test_data['ID_REF']=  label_encoder.fit_transform(test_data['ID_REF'])\n",
    "    test_data['ABS_CALL']=  label_encoder.fit_transform(test_data['ABS_CALL'])\n",
    "\n",
    "    #Splitting the data for training and testing\n",
    "    X_train = balance_data[['ID_REF','VALUE', 'Detection p-value']] \n",
    "    X_test = test_data[['ID_REF','VALUE', 'Detection p-value']]\n",
    "    y_train = balance_data['ABS_CALL']\n",
    "    y_test = test_data['ABS_CALL']\n",
    "      \n",
    "    return X, Y, X_train, X_test, y_train, y_test\n",
    "\n",
    "\n",
    "X, Y, X_train, X_test, y_train, y_test = prepClfData(dataset)"
   ]
  },
  {
   "cell_type": "markdown",
   "metadata": {},
   "source": [
    "Using Naive-Bayes Classifier to train the data"
   ]
  },
  {
   "cell_type": "code",
   "execution_count": 6,
   "metadata": {},
   "outputs": [],
   "source": [
    "def train_using_gauss(X_train, X_test, y_train): \n",
    "\n",
    "    # Creating the classifier object \n",
    "    GaussNB = GaussianNB()\n",
    "    \n",
    "    #Perform training\n",
    "    GaussNB.fit(X_train,y_train)\n",
    "    return(GaussNB)\n",
    "\n",
    "GaussNB = train_using_gauss(X_train,X_test,y_train)"
   ]
  },
  {
   "cell_type": "markdown",
   "metadata": {},
   "source": [
    "Function to make the prediction"
   ]
  },
  {
   "cell_type": "code",
   "execution_count": 7,
   "metadata": {},
   "outputs": [],
   "source": [
    "def prediction(X_test, clf_object): \n",
    "    # Predicton on test with naive Bayes\n",
    "    y_pred = clf_object.predict(X_test) \n",
    "    print(\"Predicted values:\") \n",
    "    print(y_pred) \n",
    "    return y_pred"
   ]
  },
  {
   "cell_type": "markdown",
   "metadata": {},
   "source": [
    "Making the prediciton for the testing data"
   ]
  },
  {
   "cell_type": "code",
   "execution_count": 8,
   "metadata": {},
   "outputs": [
    {
     "name": "stdout",
     "output_type": "stream",
     "text": [
      "Results Using Naive Bayes:\n",
      "Predicted values:\n",
      "[2 0 0 ... 2 0 2]\n"
     ]
    }
   ],
   "source": [
    "print(\"Results Using Naive Bayes:\")\n",
    "y_pred = prediction(X_test, GaussNB)"
   ]
  },
  {
   "cell_type": "markdown",
   "metadata": {},
   "source": [
    "Accuracy measure for the predicted data"
   ]
  },
  {
   "cell_type": "code",
   "execution_count": 9,
   "metadata": {},
   "outputs": [
    {
     "name": "stdout",
     "output_type": "stream",
     "text": [
      "Confusion Matrix: \n",
      "[[ 8586     0   232]\n",
      " [  274     0    71]\n",
      " [ 2380     0 11267]] \n",
      "\n",
      "Report : \n",
      "             precision    recall  f1-score   support\n",
      "\n",
      "          0       0.76      0.97      0.86      8818\n",
      "          1       0.00      0.00      0.00       345\n",
      "          2       0.97      0.83      0.89     13647\n",
      "\n",
      "avg / total       0.88      0.87      0.87     22810\n",
      " \n",
      "\n",
      "Accuracy :  87.03638754932047 % \n",
      "\n"
     ]
    },
    {
     "name": "stderr",
     "output_type": "stream",
     "text": [
      "/usr/local/lib/python3.5/dist-packages/sklearn/metrics/classification.py:1135: UndefinedMetricWarning: Precision and F-score are ill-defined and being set to 0.0 in labels with no predicted samples.\n",
      "  'precision', 'predicted', average, warn_for)\n"
     ]
    }
   ],
   "source": [
    "# Function to calculate accuracy \n",
    "def evaluate_prediction(y_test, y_pred): \n",
    "      \n",
    "    print(\"Confusion Matrix: \")\n",
    "    print(confusion_matrix(y_test, y_pred),'\\n')\n",
    "      \n",
    "    print(\"Report : \")\n",
    "    print(classification_report(y_test, y_pred),'\\n')\n",
    "    \n",
    "    print (\"Accuracy : \", accuracy_score(y_test,y_pred)*100,'%','\\n') \n",
    "\n",
    "evaluate_prediction(y_test, y_pred) "
   ]
  },
  {
   "cell_type": "code",
   "execution_count": null,
   "metadata": {},
   "outputs": [],
   "source": []
  }
 ],
 "metadata": {
  "kernelspec": {
   "display_name": "Python 3",
   "language": "python",
   "name": "python3"
  },
  "language_info": {
   "codemirror_mode": {
    "name": "ipython",
    "version": 3
   },
   "file_extension": ".py",
   "mimetype": "text/x-python",
   "name": "python",
   "nbconvert_exporter": "python",
   "pygments_lexer": "ipython3",
   "version": "3.5.2"
  }
 },
 "nbformat": 4,
 "nbformat_minor": 2
}
